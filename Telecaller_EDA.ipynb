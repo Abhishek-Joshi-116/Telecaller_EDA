{
 "cells": [
  {
   "cell_type": "code",
   "execution_count": 1,
   "id": "18117b66",
   "metadata": {},
   "outputs": [],
   "source": [
    "import pandas as pd\n",
    "import numpy as np\n",
    "import seaborn as sns\n",
    "import matplotlib.pyplot as plt\n",
    "%matplotlib inline"
   ]
  },
  {
   "cell_type": "code",
   "execution_count": 2,
   "id": "b688fff7",
   "metadata": {},
   "outputs": [],
   "source": [
    "import warnings\n",
    "warnings.filterwarnings('ignore')"
   ]
  },
  {
   "cell_type": "code",
   "execution_count": 3,
   "id": "97fcc365",
   "metadata": {},
   "outputs": [],
   "source": [
    "df=pd.read_csv('EDA_Practice_Dataset_2_Telemarketingtopic_added1627027202s_p1515805800.csv')"
   ]
  },
  {
   "cell_type": "code",
   "execution_count": 4,
   "id": "97d7378f",
   "metadata": {},
   "outputs": [
    {
     "data": {
      "text/html": [
       "<div>\n",
       "<style scoped>\n",
       "    .dataframe tbody tr th:only-of-type {\n",
       "        vertical-align: middle;\n",
       "    }\n",
       "\n",
       "    .dataframe tbody tr th {\n",
       "        vertical-align: top;\n",
       "    }\n",
       "\n",
       "    .dataframe thead th {\n",
       "        text-align: right;\n",
       "    }\n",
       "</style>\n",
       "<table border=\"1\" class=\"dataframe\">\n",
       "  <thead>\n",
       "    <tr style=\"text-align: right;\">\n",
       "      <th></th>\n",
       "      <th>Call_ID</th>\n",
       "      <th>Sale</th>\n",
       "      <th>Agent_ID</th>\n",
       "      <th>Age</th>\n",
       "      <th>Product_ID</th>\n",
       "      <th>Timezone</th>\n",
       "      <th>Phone_code</th>\n",
       "      <th>First_Name</th>\n",
       "      <th>Last_Name</th>\n",
       "      <th>Area_Code</th>\n",
       "      <th>Gender</th>\n",
       "      <th>Call_Count</th>\n",
       "    </tr>\n",
       "  </thead>\n",
       "  <tbody>\n",
       "    <tr>\n",
       "      <th>0</th>\n",
       "      <td>9545434</td>\n",
       "      <td>False</td>\n",
       "      <td>5265</td>\n",
       "      <td>42</td>\n",
       "      <td>147</td>\n",
       "      <td>2</td>\n",
       "      <td>37.0</td>\n",
       "      <td>Jk</td>\n",
       "      <td>Jk</td>\n",
       "      <td>2302</td>\n",
       "      <td>Male</td>\n",
       "      <td>1</td>\n",
       "    </tr>\n",
       "    <tr>\n",
       "      <th>1</th>\n",
       "      <td>9211206</td>\n",
       "      <td>False</td>\n",
       "      <td>5226</td>\n",
       "      <td>74</td>\n",
       "      <td>146</td>\n",
       "      <td>2</td>\n",
       "      <td>37.0</td>\n",
       "      <td>Em</td>\n",
       "      <td>Sh</td>\n",
       "      <td>1501</td>\n",
       "      <td>Male</td>\n",
       "      <td>10</td>\n",
       "    </tr>\n",
       "    <tr>\n",
       "      <th>2</th>\n",
       "      <td>8873010</td>\n",
       "      <td>False</td>\n",
       "      <td>4452</td>\n",
       "      <td>35</td>\n",
       "      <td>144</td>\n",
       "      <td>2</td>\n",
       "      <td>37.0</td>\n",
       "      <td>BI</td>\n",
       "      <td>MI</td>\n",
       "      <td>1550</td>\n",
       "      <td>Male</td>\n",
       "      <td>9</td>\n",
       "    </tr>\n",
       "    <tr>\n",
       "      <th>3</th>\n",
       "      <td>9852034</td>\n",
       "      <td>False</td>\n",
       "      <td>5461</td>\n",
       "      <td>40</td>\n",
       "      <td>149</td>\n",
       "      <td>2</td>\n",
       "      <td>37.0</td>\n",
       "      <td>WT</td>\n",
       "      <td>LI</td>\n",
       "      <td>1401</td>\n",
       "      <td>Male</td>\n",
       "      <td>6</td>\n",
       "    </tr>\n",
       "    <tr>\n",
       "      <th>4</th>\n",
       "      <td>9416548</td>\n",
       "      <td>False</td>\n",
       "      <td>5298</td>\n",
       "      <td>26</td>\n",
       "      <td>147</td>\n",
       "      <td>2</td>\n",
       "      <td>37.0</td>\n",
       "      <td>LA</td>\n",
       "      <td>LA</td>\n",
       "      <td>125</td>\n",
       "      <td>Female</td>\n",
       "      <td>12</td>\n",
       "    </tr>\n",
       "  </tbody>\n",
       "</table>\n",
       "</div>"
      ],
      "text/plain": [
       "   Call_ID   Sale Agent_ID  Age  Product_ID  Timezone  Phone_code First_Name  \\\n",
       "0  9545434  False     5265   42         147         2        37.0         Jk   \n",
       "1  9211206  False     5226   74         146         2        37.0         Em   \n",
       "2  8873010  False     4452   35         144         2        37.0         BI   \n",
       "3  9852034  False     5461   40         149         2        37.0         WT   \n",
       "4  9416548  False     5298   26         147         2        37.0         LA   \n",
       "\n",
       "  Last_Name Area_Code  Gender  Call_Count  \n",
       "0        Jk      2302    Male           1  \n",
       "1        Sh      1501    Male          10  \n",
       "2        MI      1550    Male           9  \n",
       "3        LI      1401    Male           6  \n",
       "4        LA       125  Female          12  "
      ]
     },
     "execution_count": 4,
     "metadata": {},
     "output_type": "execute_result"
    }
   ],
   "source": [
    "df.head()"
   ]
  },
  {
   "cell_type": "code",
   "execution_count": null,
   "id": "74a6424c",
   "metadata": {},
   "outputs": [],
   "source": []
  },
  {
   "cell_type": "code",
   "execution_count": 5,
   "id": "2369558d",
   "metadata": {},
   "outputs": [
    {
     "data": {
      "text/html": [
       "<div>\n",
       "<style scoped>\n",
       "    .dataframe tbody tr th:only-of-type {\n",
       "        vertical-align: middle;\n",
       "    }\n",
       "\n",
       "    .dataframe tbody tr th {\n",
       "        vertical-align: top;\n",
       "    }\n",
       "\n",
       "    .dataframe thead th {\n",
       "        text-align: right;\n",
       "    }\n",
       "</style>\n",
       "<table border=\"1\" class=\"dataframe\">\n",
       "  <thead>\n",
       "    <tr style=\"text-align: right;\">\n",
       "      <th></th>\n",
       "      <th>Call_ID</th>\n",
       "      <th>Age</th>\n",
       "      <th>Product_ID</th>\n",
       "      <th>Timezone</th>\n",
       "      <th>Phone_code</th>\n",
       "      <th>Call_Count</th>\n",
       "    </tr>\n",
       "  </thead>\n",
       "  <tbody>\n",
       "    <tr>\n",
       "      <th>count</th>\n",
       "      <td>1.000000e+05</td>\n",
       "      <td>100000.000000</td>\n",
       "      <td>100000.000000</td>\n",
       "      <td>100000.000000</td>\n",
       "      <td>99972.0</td>\n",
       "      <td>100000.00000</td>\n",
       "    </tr>\n",
       "    <tr>\n",
       "      <th>mean</th>\n",
       "      <td>9.562981e+06</td>\n",
       "      <td>52.558530</td>\n",
       "      <td>147.216690</td>\n",
       "      <td>1.999420</td>\n",
       "      <td>37.0</td>\n",
       "      <td>3.26866</td>\n",
       "    </tr>\n",
       "    <tr>\n",
       "      <th>std</th>\n",
       "      <td>4.618927e+05</td>\n",
       "      <td>16.144553</td>\n",
       "      <td>2.182815</td>\n",
       "      <td>0.034054</td>\n",
       "      <td>0.0</td>\n",
       "      <td>2.96882</td>\n",
       "    </tr>\n",
       "    <tr>\n",
       "      <th>min</th>\n",
       "      <td>8.432514e+06</td>\n",
       "      <td>25.000000</td>\n",
       "      <td>142.000000</td>\n",
       "      <td>0.000000</td>\n",
       "      <td>37.0</td>\n",
       "      <td>1.00000</td>\n",
       "    </tr>\n",
       "    <tr>\n",
       "      <th>25%</th>\n",
       "      <td>9.230592e+06</td>\n",
       "      <td>39.000000</td>\n",
       "      <td>146.000000</td>\n",
       "      <td>2.000000</td>\n",
       "      <td>37.0</td>\n",
       "      <td>1.00000</td>\n",
       "    </tr>\n",
       "    <tr>\n",
       "      <th>50%</th>\n",
       "      <td>9.527831e+06</td>\n",
       "      <td>53.000000</td>\n",
       "      <td>147.000000</td>\n",
       "      <td>2.000000</td>\n",
       "      <td>37.0</td>\n",
       "      <td>2.00000</td>\n",
       "    </tr>\n",
       "    <tr>\n",
       "      <th>75%</th>\n",
       "      <td>9.919197e+06</td>\n",
       "      <td>66.000000</td>\n",
       "      <td>149.000000</td>\n",
       "      <td>2.000000</td>\n",
       "      <td>37.0</td>\n",
       "      <td>4.00000</td>\n",
       "    </tr>\n",
       "    <tr>\n",
       "      <th>max</th>\n",
       "      <td>1.047664e+07</td>\n",
       "      <td>80.000000</td>\n",
       "      <td>151.000000</td>\n",
       "      <td>2.000000</td>\n",
       "      <td>37.0</td>\n",
       "      <td>55.00000</td>\n",
       "    </tr>\n",
       "  </tbody>\n",
       "</table>\n",
       "</div>"
      ],
      "text/plain": [
       "            Call_ID            Age     Product_ID       Timezone  Phone_code  \\\n",
       "count  1.000000e+05  100000.000000  100000.000000  100000.000000     99972.0   \n",
       "mean   9.562981e+06      52.558530     147.216690       1.999420        37.0   \n",
       "std    4.618927e+05      16.144553       2.182815       0.034054         0.0   \n",
       "min    8.432514e+06      25.000000     142.000000       0.000000        37.0   \n",
       "25%    9.230592e+06      39.000000     146.000000       2.000000        37.0   \n",
       "50%    9.527831e+06      53.000000     147.000000       2.000000        37.0   \n",
       "75%    9.919197e+06      66.000000     149.000000       2.000000        37.0   \n",
       "max    1.047664e+07      80.000000     151.000000       2.000000        37.0   \n",
       "\n",
       "         Call_Count  \n",
       "count  100000.00000  \n",
       "mean        3.26866  \n",
       "std         2.96882  \n",
       "min         1.00000  \n",
       "25%         1.00000  \n",
       "50%         2.00000  \n",
       "75%         4.00000  \n",
       "max        55.00000  "
      ]
     },
     "execution_count": 5,
     "metadata": {},
     "output_type": "execute_result"
    }
   ],
   "source": [
    "df.describe()"
   ]
  },
  {
   "cell_type": "code",
   "execution_count": null,
   "id": "c9aeec9a",
   "metadata": {},
   "outputs": [],
   "source": []
  },
  {
   "cell_type": "code",
   "execution_count": 6,
   "id": "06d94536",
   "metadata": {},
   "outputs": [
    {
     "name": "stdout",
     "output_type": "stream",
     "text": [
      "<class 'pandas.core.frame.DataFrame'>\n",
      "RangeIndex: 100000 entries, 0 to 99999\n",
      "Data columns (total 12 columns):\n",
      " #   Column      Non-Null Count   Dtype  \n",
      "---  ------      --------------   -----  \n",
      " 0   Call_ID     100000 non-null  int64  \n",
      " 1   Sale        99968 non-null   object \n",
      " 2   Agent_ID    97685 non-null   object \n",
      " 3   Age         100000 non-null  int64  \n",
      " 4   Product_ID  100000 non-null  int64  \n",
      " 5   Timezone    100000 non-null  int64  \n",
      " 6   Phone_code  99972 non-null   float64\n",
      " 7   First_Name  99318 non-null   object \n",
      " 8   Last_Name   99319 non-null   object \n",
      " 9   Area_Code   99540 non-null   object \n",
      " 10  Gender      100000 non-null  object \n",
      " 11  Call_Count  100000 non-null  int64  \n",
      "dtypes: float64(1), int64(5), object(6)\n",
      "memory usage: 9.2+ MB\n"
     ]
    }
   ],
   "source": [
    "df.info()"
   ]
  },
  {
   "cell_type": "code",
   "execution_count": 7,
   "id": "8446bec0",
   "metadata": {},
   "outputs": [
    {
     "data": {
      "text/plain": [
       "(100000, 12)"
      ]
     },
     "execution_count": 7,
     "metadata": {},
     "output_type": "execute_result"
    }
   ],
   "source": [
    "df.shape"
   ]
  },
  {
   "cell_type": "code",
   "execution_count": 8,
   "id": "b68b9d69",
   "metadata": {},
   "outputs": [
    {
     "data": {
      "text/plain": [
       "Call_ID          0\n",
       "Sale            32\n",
       "Agent_ID      2315\n",
       "Age              0\n",
       "Product_ID       0\n",
       "Timezone         0\n",
       "Phone_code      28\n",
       "First_Name     682\n",
       "Last_Name      681\n",
       "Area_Code      460\n",
       "Gender           0\n",
       "Call_Count       0\n",
       "dtype: int64"
      ]
     },
     "execution_count": 8,
     "metadata": {},
     "output_type": "execute_result"
    }
   ],
   "source": [
    "df.isnull().sum()"
   ]
  },
  {
   "cell_type": "markdown",
   "id": "8da1d0fc",
   "metadata": {},
   "source": [
    "# Replacing NAN values with mode in Sale"
   ]
  },
  {
   "cell_type": "code",
   "execution_count": 9,
   "id": "6ff70d10",
   "metadata": {},
   "outputs": [
    {
     "data": {
      "text/plain": [
       "array([False, True, nan], dtype=object)"
      ]
     },
     "execution_count": 9,
     "metadata": {},
     "output_type": "execute_result"
    }
   ],
   "source": [
    "df[\"Sale\"].unique()"
   ]
  },
  {
   "cell_type": "code",
   "execution_count": 10,
   "id": "b89dbc27",
   "metadata": {},
   "outputs": [
    {
     "data": {
      "text/plain": [
       "False"
      ]
     },
     "execution_count": 10,
     "metadata": {},
     "output_type": "execute_result"
    }
   ],
   "source": [
    "df[\"Sale\"].mode()[0]"
   ]
  },
  {
   "cell_type": "code",
   "execution_count": 11,
   "id": "b99f0330",
   "metadata": {},
   "outputs": [],
   "source": [
    "df[\"Sale\"]=df[\"Sale\"].replace(np.nan,df[\"Sale\"].mode()[0])"
   ]
  },
  {
   "cell_type": "code",
   "execution_count": 12,
   "id": "bb5a1c4d",
   "metadata": {},
   "outputs": [
    {
     "data": {
      "text/plain": [
       "0"
      ]
     },
     "execution_count": 12,
     "metadata": {},
     "output_type": "execute_result"
    }
   ],
   "source": [
    "df[\"Sale\"].isnull().sum()"
   ]
  },
  {
   "cell_type": "code",
   "execution_count": null,
   "id": "e7bb0359",
   "metadata": {},
   "outputs": [],
   "source": []
  },
  {
   "cell_type": "markdown",
   "id": "92564afb",
   "metadata": {},
   "source": [
    "# Droping Agent_Id"
   ]
  },
  {
   "cell_type": "code",
   "execution_count": 13,
   "id": "cb21d64e",
   "metadata": {},
   "outputs": [
    {
     "name": "stdout",
     "output_type": "stream",
     "text": [
      "<class 'pandas.core.frame.DataFrame'>\n",
      "RangeIndex: 100000 entries, 0 to 99999\n",
      "Data columns (total 12 columns):\n",
      " #   Column      Non-Null Count   Dtype  \n",
      "---  ------      --------------   -----  \n",
      " 0   Call_ID     100000 non-null  int64  \n",
      " 1   Sale        100000 non-null  bool   \n",
      " 2   Agent_ID    97685 non-null   object \n",
      " 3   Age         100000 non-null  int64  \n",
      " 4   Product_ID  100000 non-null  int64  \n",
      " 5   Timezone    100000 non-null  int64  \n",
      " 6   Phone_code  99972 non-null   float64\n",
      " 7   First_Name  99318 non-null   object \n",
      " 8   Last_Name   99319 non-null   object \n",
      " 9   Area_Code   99540 non-null   object \n",
      " 10  Gender      100000 non-null  object \n",
      " 11  Call_Count  100000 non-null  int64  \n",
      "dtypes: bool(1), float64(1), int64(5), object(5)\n",
      "memory usage: 8.5+ MB\n"
     ]
    }
   ],
   "source": [
    "df.info()"
   ]
  },
  {
   "cell_type": "code",
   "execution_count": 14,
   "id": "190afed4",
   "metadata": {},
   "outputs": [
    {
     "data": {
      "text/plain": [
       "2315"
      ]
     },
     "execution_count": 14,
     "metadata": {},
     "output_type": "execute_result"
    }
   ],
   "source": [
    "df[\"Agent_ID\"].isnull().sum()"
   ]
  },
  {
   "cell_type": "code",
   "execution_count": 15,
   "id": "a2024d17",
   "metadata": {},
   "outputs": [],
   "source": [
    "df.drop(\"Agent_ID\",axis=1,inplace=True)"
   ]
  },
  {
   "cell_type": "code",
   "execution_count": 18,
   "id": "2d41fe18",
   "metadata": {},
   "outputs": [
    {
     "data": {
      "text/html": [
       "<div>\n",
       "<style scoped>\n",
       "    .dataframe tbody tr th:only-of-type {\n",
       "        vertical-align: middle;\n",
       "    }\n",
       "\n",
       "    .dataframe tbody tr th {\n",
       "        vertical-align: top;\n",
       "    }\n",
       "\n",
       "    .dataframe thead th {\n",
       "        text-align: right;\n",
       "    }\n",
       "</style>\n",
       "<table border=\"1\" class=\"dataframe\">\n",
       "  <thead>\n",
       "    <tr style=\"text-align: right;\">\n",
       "      <th></th>\n",
       "      <th>Call_ID</th>\n",
       "      <th>Sale</th>\n",
       "      <th>Age</th>\n",
       "      <th>Product_ID</th>\n",
       "      <th>Timezone</th>\n",
       "      <th>Phone_code</th>\n",
       "      <th>First_Name</th>\n",
       "      <th>Last_Name</th>\n",
       "      <th>Area_Code</th>\n",
       "      <th>Gender</th>\n",
       "      <th>Call_Count</th>\n",
       "    </tr>\n",
       "  </thead>\n",
       "  <tbody>\n",
       "    <tr>\n",
       "      <th>0</th>\n",
       "      <td>9545434</td>\n",
       "      <td>False</td>\n",
       "      <td>42</td>\n",
       "      <td>147</td>\n",
       "      <td>2</td>\n",
       "      <td>37.0</td>\n",
       "      <td>Jk</td>\n",
       "      <td>Jk</td>\n",
       "      <td>2302</td>\n",
       "      <td>Male</td>\n",
       "      <td>1</td>\n",
       "    </tr>\n",
       "    <tr>\n",
       "      <th>1</th>\n",
       "      <td>9211206</td>\n",
       "      <td>False</td>\n",
       "      <td>74</td>\n",
       "      <td>146</td>\n",
       "      <td>2</td>\n",
       "      <td>37.0</td>\n",
       "      <td>Em</td>\n",
       "      <td>Sh</td>\n",
       "      <td>1501</td>\n",
       "      <td>Male</td>\n",
       "      <td>10</td>\n",
       "    </tr>\n",
       "  </tbody>\n",
       "</table>\n",
       "</div>"
      ],
      "text/plain": [
       "   Call_ID   Sale  Age  Product_ID  Timezone  Phone_code First_Name Last_Name  \\\n",
       "0  9545434  False   42         147         2        37.0         Jk        Jk   \n",
       "1  9211206  False   74         146         2        37.0         Em        Sh   \n",
       "\n",
       "  Area_Code Gender  Call_Count  \n",
       "0      2302   Male           1  \n",
       "1      1501   Male          10  "
      ]
     },
     "execution_count": 18,
     "metadata": {},
     "output_type": "execute_result"
    }
   ],
   "source": [
    "df.head(2)"
   ]
  },
  {
   "cell_type": "code",
   "execution_count": null,
   "id": "4eaae7ec",
   "metadata": {},
   "outputs": [],
   "source": []
  },
  {
   "cell_type": "markdown",
   "id": "7163adc9",
   "metadata": {},
   "source": [
    "# In Age replacing nan values with mean"
   ]
  },
  {
   "cell_type": "code",
   "execution_count": 31,
   "id": "a201924b",
   "metadata": {},
   "outputs": [
    {
     "name": "stdout",
     "output_type": "stream",
     "text": [
      "<class 'pandas.core.frame.DataFrame'>\n",
      "RangeIndex: 100000 entries, 0 to 99999\n",
      "Data columns (total 12 columns):\n",
      " #   Column      Non-Null Count   Dtype  \n",
      "---  ------      --------------   -----  \n",
      " 0   Call_ID     100000 non-null  int64  \n",
      " 1   Sale        100000 non-null  bool   \n",
      " 2   Agent_ID    97685 non-null   object \n",
      " 3   Age         100000 non-null  int64  \n",
      " 4   Product_ID  100000 non-null  int64  \n",
      " 5   Timezone    100000 non-null  int64  \n",
      " 6   Phone_code  99972 non-null   float64\n",
      " 7   First_Name  99318 non-null   object \n",
      " 8   Last_Name   99319 non-null   object \n",
      " 9   Area_Code   99540 non-null   object \n",
      " 10  Gender      100000 non-null  object \n",
      " 11  Call_Count  100000 non-null  int64  \n",
      "dtypes: bool(1), float64(1), int64(5), object(5)\n",
      "memory usage: 8.5+ MB\n"
     ]
    }
   ],
   "source": [
    "df.info()"
   ]
  },
  {
   "cell_type": "code",
   "execution_count": 21,
   "id": "a3b70e47",
   "metadata": {},
   "outputs": [
    {
     "data": {
      "text/plain": [
       "array([42, 74, 35, 40, 26, 33, 70, 41, 72, 34, 73, 30, 53, 67, 79, 63, 39,\n",
       "       25, 49, 69, 55, 56, 59, 58, 43, 68, 45, 62, 29, 47, 46, 65, 38, 54,\n",
       "       27, 64, 71, 57, 50, 48, 78, 60, 32, 31, 66, 36, 76, 77, 28, 75, 61,\n",
       "       51, 80, 37, 44, 52], dtype=int64)"
      ]
     },
     "execution_count": 21,
     "metadata": {},
     "output_type": "execute_result"
    }
   ],
   "source": [
    "df[\"Age\"].unique()"
   ]
  },
  {
   "cell_type": "code",
   "execution_count": 22,
   "id": "3a8549b3",
   "metadata": {},
   "outputs": [],
   "source": [
    "df[\"Age\"] = df[\"Age\"].replace(np.nan,df[\"Age\"].mean())"
   ]
  },
  {
   "cell_type": "code",
   "execution_count": 23,
   "id": "9417329f",
   "metadata": {},
   "outputs": [
    {
     "data": {
      "text/plain": [
       "0"
      ]
     },
     "execution_count": 23,
     "metadata": {},
     "output_type": "execute_result"
    }
   ],
   "source": [
    "df[\"Age\"].isnull().sum()"
   ]
  },
  {
   "cell_type": "code",
   "execution_count": null,
   "id": "a35cd776",
   "metadata": {},
   "outputs": [],
   "source": []
  },
  {
   "cell_type": "markdown",
   "id": "fe3feb4f",
   "metadata": {},
   "source": [
    "# Replacing Nan value in Phone_code with mode"
   ]
  },
  {
   "cell_type": "code",
   "execution_count": 24,
   "id": "2fdc1612",
   "metadata": {},
   "outputs": [
    {
     "data": {
      "text/plain": [
       "Call_ID         0\n",
       "Sale            0\n",
       "Age             0\n",
       "Product_ID      0\n",
       "Timezone        0\n",
       "Phone_code     28\n",
       "First_Name    682\n",
       "Last_Name     681\n",
       "Area_Code     460\n",
       "Gender          0\n",
       "Call_Count      0\n",
       "dtype: int64"
      ]
     },
     "execution_count": 24,
     "metadata": {},
     "output_type": "execute_result"
    }
   ],
   "source": [
    "df.isnull().sum()"
   ]
  },
  {
   "cell_type": "code",
   "execution_count": 27,
   "id": "7231bd5a",
   "metadata": {},
   "outputs": [
    {
     "data": {
      "text/plain": [
       "0    37.0\n",
       "dtype: float64"
      ]
     },
     "execution_count": 27,
     "metadata": {},
     "output_type": "execute_result"
    }
   ],
   "source": [
    "df[\"Phone_code\"].mode()"
   ]
  },
  {
   "cell_type": "code",
   "execution_count": 29,
   "id": "54c1ffc1",
   "metadata": {},
   "outputs": [],
   "source": [
    "df[\"Phone_code\"]=df[\"Phone_code\"].replace(np.nan,df[\"Phone_code\"].mode()[0])"
   ]
  },
  {
   "cell_type": "code",
   "execution_count": 30,
   "id": "55ee8871",
   "metadata": {},
   "outputs": [
    {
     "data": {
      "text/plain": [
       "0"
      ]
     },
     "execution_count": 30,
     "metadata": {},
     "output_type": "execute_result"
    }
   ],
   "source": [
    "df[\"Phone_code\"].isnull().sum()"
   ]
  },
  {
   "cell_type": "code",
   "execution_count": null,
   "id": "d77b4cd1",
   "metadata": {},
   "outputs": [],
   "source": []
  },
  {
   "cell_type": "markdown",
   "id": "d4c476bb",
   "metadata": {},
   "source": [
    "# Dropping First_Name,Last_Name and Area_Code \n",
    "because we cannot fill it with mean,median or mode"
   ]
  },
  {
   "cell_type": "code",
   "execution_count": 31,
   "id": "440872ed",
   "metadata": {},
   "outputs": [
    {
     "data": {
      "text/plain": [
       "Call_ID         0\n",
       "Sale            0\n",
       "Age             0\n",
       "Product_ID      0\n",
       "Timezone        0\n",
       "Phone_code      0\n",
       "First_Name    682\n",
       "Last_Name     681\n",
       "Area_Code     460\n",
       "Gender          0\n",
       "Call_Count      0\n",
       "dtype: int64"
      ]
     },
     "execution_count": 31,
     "metadata": {},
     "output_type": "execute_result"
    }
   ],
   "source": [
    "df.isnull().sum()"
   ]
  },
  {
   "cell_type": "code",
   "execution_count": 32,
   "id": "086787bb",
   "metadata": {},
   "outputs": [],
   "source": [
    "df=df.dropna()"
   ]
  },
  {
   "cell_type": "code",
   "execution_count": 34,
   "id": "a40e1b30",
   "metadata": {},
   "outputs": [
    {
     "data": {
      "text/plain": [
       "Call_ID       0\n",
       "Sale          0\n",
       "Age           0\n",
       "Product_ID    0\n",
       "Timezone      0\n",
       "Phone_code    0\n",
       "First_Name    0\n",
       "Last_Name     0\n",
       "Area_Code     0\n",
       "Gender        0\n",
       "Call_Count    0\n",
       "dtype: int64"
      ]
     },
     "execution_count": 34,
     "metadata": {},
     "output_type": "execute_result"
    }
   ],
   "source": [
    "df.isnull().sum()"
   ]
  },
  {
   "cell_type": "code",
   "execution_count": null,
   "id": "6b526792",
   "metadata": {},
   "outputs": [],
   "source": []
  },
  {
   "cell_type": "markdown",
   "id": "7d5e234b",
   "metadata": {},
   "source": [
    "# ##Graphs and Anlysis"
   ]
  },
  {
   "cell_type": "code",
   "execution_count": 38,
   "id": "a25839bc",
   "metadata": {},
   "outputs": [
    {
     "data": {
      "text/html": [
       "<div>\n",
       "<style scoped>\n",
       "    .dataframe tbody tr th:only-of-type {\n",
       "        vertical-align: middle;\n",
       "    }\n",
       "\n",
       "    .dataframe tbody tr th {\n",
       "        vertical-align: top;\n",
       "    }\n",
       "\n",
       "    .dataframe thead th {\n",
       "        text-align: right;\n",
       "    }\n",
       "</style>\n",
       "<table border=\"1\" class=\"dataframe\">\n",
       "  <thead>\n",
       "    <tr style=\"text-align: right;\">\n",
       "      <th></th>\n",
       "      <th>Call_ID</th>\n",
       "      <th>Sale</th>\n",
       "      <th>Age</th>\n",
       "      <th>Product_ID</th>\n",
       "      <th>Timezone</th>\n",
       "      <th>Phone_code</th>\n",
       "      <th>First_Name</th>\n",
       "      <th>Last_Name</th>\n",
       "      <th>Area_Code</th>\n",
       "      <th>Gender</th>\n",
       "      <th>Call_Count</th>\n",
       "    </tr>\n",
       "  </thead>\n",
       "  <tbody>\n",
       "    <tr>\n",
       "      <th>0</th>\n",
       "      <td>9545434</td>\n",
       "      <td>False</td>\n",
       "      <td>42</td>\n",
       "      <td>147</td>\n",
       "      <td>2</td>\n",
       "      <td>37.0</td>\n",
       "      <td>Jk</td>\n",
       "      <td>Jk</td>\n",
       "      <td>2302</td>\n",
       "      <td>Male</td>\n",
       "      <td>1</td>\n",
       "    </tr>\n",
       "    <tr>\n",
       "      <th>1</th>\n",
       "      <td>9211206</td>\n",
       "      <td>False</td>\n",
       "      <td>74</td>\n",
       "      <td>146</td>\n",
       "      <td>2</td>\n",
       "      <td>37.0</td>\n",
       "      <td>Em</td>\n",
       "      <td>Sh</td>\n",
       "      <td>1501</td>\n",
       "      <td>Male</td>\n",
       "      <td>10</td>\n",
       "    </tr>\n",
       "    <tr>\n",
       "      <th>2</th>\n",
       "      <td>8873010</td>\n",
       "      <td>False</td>\n",
       "      <td>35</td>\n",
       "      <td>144</td>\n",
       "      <td>2</td>\n",
       "      <td>37.0</td>\n",
       "      <td>BI</td>\n",
       "      <td>MI</td>\n",
       "      <td>1550</td>\n",
       "      <td>Male</td>\n",
       "      <td>9</td>\n",
       "    </tr>\n",
       "    <tr>\n",
       "      <th>3</th>\n",
       "      <td>9852034</td>\n",
       "      <td>False</td>\n",
       "      <td>40</td>\n",
       "      <td>149</td>\n",
       "      <td>2</td>\n",
       "      <td>37.0</td>\n",
       "      <td>WT</td>\n",
       "      <td>LI</td>\n",
       "      <td>1401</td>\n",
       "      <td>Male</td>\n",
       "      <td>6</td>\n",
       "    </tr>\n",
       "    <tr>\n",
       "      <th>4</th>\n",
       "      <td>9416548</td>\n",
       "      <td>False</td>\n",
       "      <td>26</td>\n",
       "      <td>147</td>\n",
       "      <td>2</td>\n",
       "      <td>37.0</td>\n",
       "      <td>LA</td>\n",
       "      <td>LA</td>\n",
       "      <td>125</td>\n",
       "      <td>Female</td>\n",
       "      <td>12</td>\n",
       "    </tr>\n",
       "  </tbody>\n",
       "</table>\n",
       "</div>"
      ],
      "text/plain": [
       "   Call_ID   Sale  Age  Product_ID  Timezone  Phone_code First_Name Last_Name  \\\n",
       "0  9545434  False   42         147         2        37.0         Jk        Jk   \n",
       "1  9211206  False   74         146         2        37.0         Em        Sh   \n",
       "2  8873010  False   35         144         2        37.0         BI        MI   \n",
       "3  9852034  False   40         149         2        37.0         WT        LI   \n",
       "4  9416548  False   26         147         2        37.0         LA        LA   \n",
       "\n",
       "  Area_Code  Gender  Call_Count  \n",
       "0      2302    Male           1  \n",
       "1      1501    Male          10  \n",
       "2      1550    Male           9  \n",
       "3      1401    Male           6  \n",
       "4       125  Female          12  "
      ]
     },
     "execution_count": 38,
     "metadata": {},
     "output_type": "execute_result"
    }
   ],
   "source": [
    "df.head()"
   ]
  },
  {
   "cell_type": "code",
   "execution_count": 58,
   "id": "4a9fe329",
   "metadata": {},
   "outputs": [
    {
     "name": "stdout",
     "output_type": "stream",
     "text": [
      "<class 'pandas.core.frame.DataFrame'>\n",
      "Int64Index: 98410 entries, 0 to 99999\n",
      "Data columns (total 11 columns):\n",
      " #   Column      Non-Null Count  Dtype  \n",
      "---  ------      --------------  -----  \n",
      " 0   Call_ID     98410 non-null  int64  \n",
      " 1   Sale        98410 non-null  bool   \n",
      " 2   Age         98410 non-null  int64  \n",
      " 3   Product_ID  98410 non-null  int64  \n",
      " 4   Timezone    98410 non-null  int64  \n",
      " 5   Phone_code  98410 non-null  float64\n",
      " 6   First_Name  98410 non-null  object \n",
      " 7   Last_Name   98410 non-null  object \n",
      " 8   Area_Code   98410 non-null  object \n",
      " 9   Gender      98410 non-null  object \n",
      " 10  Call_Count  98410 non-null  int64  \n",
      "dtypes: bool(1), float64(1), int64(5), object(4)\n",
      "memory usage: 10.4+ MB\n"
     ]
    }
   ],
   "source": [
    "df.info()"
   ]
  },
  {
   "cell_type": "code",
   "execution_count": null,
   "id": "1fb7c15c",
   "metadata": {},
   "outputs": [],
   "source": []
  },
  {
   "cell_type": "code",
   "execution_count": 52,
   "id": "e2a486f2",
   "metadata": {},
   "outputs": [
    {
     "data": {
      "image/png": "[encoded data removed]",
      "text/plain": [
       "<Figure size 720x1440 with 6 Axes>"
      ]
     },
     "metadata": {
      "needs_background": "light"
     },
     "output_type": "display_data"
    }
   ],
   "source": [
    "df.hist(figsize=(10,20));"
   ]
  },
  {
   "cell_type": "code",
   "execution_count": null,
   "id": "e81f7df7",
   "metadata": {},
   "outputs": [],
   "source": []
  },
  {
   "cell_type": "code",
   "execution_count": 57,
   "id": "64afd12f",
   "metadata": {},
   "outputs": [
    {
     "data": {
      "text/plain": [
       "<AxesSubplot:xlabel='Age', ylabel='count'>"
      ]
     },
     "execution_count": 57,
     "metadata": {},
     "output_type": "execute_result"
    },
    {
     "data": {
      "image/png": "[encoded data removed]",
      "text/plain": [
       "<Figure size 1080x648 with 1 Axes>"
      ]
     },
     "metadata": {
      "needs_background": "light"
     },
     "output_type": "display_data"
    }
   ],
   "source": [
    "plt.figure(figsize=(15,9))\n",
    "sns.countplot(x=\"Age\",data=df)"
   ]
  },
  {
   "cell_type": "code",
   "execution_count": null,
   "id": "01c38c6d",
   "metadata": {},
   "outputs": [],
   "source": []
  },
  {
   "cell_type": "code",
   "execution_count": 63,
   "id": "2a3435f9",
   "metadata": {},
   "outputs": [
    {
     "data": {
      "image/png": "[encoded data removed]",
      "text/plain": [
       "<Figure size 648x360 with 1 Axes>"
      ]
     },
     "metadata": {
      "needs_background": "light"
     },
     "output_type": "display_data"
    }
   ],
   "source": [
    "plt.figure(figsize=(9,5))\n",
    "sns.countplot(x=\"Call_Count\",data=df);"
   ]
  },
  {
   "cell_type": "code",
   "execution_count": null,
   "id": "ae912c62",
   "metadata": {},
   "outputs": [],
   "source": []
  },
  {
   "cell_type": "code",
   "execution_count": 66,
   "id": "0963c4d5",
   "metadata": {},
   "outputs": [
    {
     "data": {
      "text/html": [
       "<div>\n",
       "<style scoped>\n",
       "    .dataframe tbody tr th:only-of-type {\n",
       "        vertical-align: middle;\n",
       "    }\n",
       "\n",
       "    .dataframe tbody tr th {\n",
       "        vertical-align: top;\n",
       "    }\n",
       "\n",
       "    .dataframe thead th {\n",
       "        text-align: right;\n",
       "    }\n",
       "</style>\n",
       "<table border=\"1\" class=\"dataframe\">\n",
       "  <thead>\n",
       "    <tr style=\"text-align: right;\">\n",
       "      <th></th>\n",
       "      <th>Call_ID</th>\n",
       "      <th>Sale</th>\n",
       "      <th>Age</th>\n",
       "      <th>Product_ID</th>\n",
       "      <th>Timezone</th>\n",
       "      <th>Phone_code</th>\n",
       "      <th>Call_Count</th>\n",
       "    </tr>\n",
       "  </thead>\n",
       "  <tbody>\n",
       "    <tr>\n",
       "      <th>Call_ID</th>\n",
       "      <td>1.000000</td>\n",
       "      <td>0.013108</td>\n",
       "      <td>0.000939</td>\n",
       "      <td>0.991783</td>\n",
       "      <td>0.000059</td>\n",
       "      <td>NaN</td>\n",
       "      <td>-0.408742</td>\n",
       "    </tr>\n",
       "    <tr>\n",
       "      <th>Sale</th>\n",
       "      <td>0.013108</td>\n",
       "      <td>1.000000</td>\n",
       "      <td>-0.003349</td>\n",
       "      <td>0.012813</td>\n",
       "      <td>-0.026067</td>\n",
       "      <td>NaN</td>\n",
       "      <td>-0.045342</td>\n",
       "    </tr>\n",
       "    <tr>\n",
       "      <th>Age</th>\n",
       "      <td>0.000939</td>\n",
       "      <td>-0.003349</td>\n",
       "      <td>1.000000</td>\n",
       "      <td>0.001041</td>\n",
       "      <td>-0.003550</td>\n",
       "      <td>NaN</td>\n",
       "      <td>-0.002219</td>\n",
       "    </tr>\n",
       "    <tr>\n",
       "      <th>Product_ID</th>\n",
       "      <td>0.991783</td>\n",
       "      <td>0.012813</td>\n",
       "      <td>0.001041</td>\n",
       "      <td>1.000000</td>\n",
       "      <td>0.002780</td>\n",
       "      <td>NaN</td>\n",
       "      <td>-0.403949</td>\n",
       "    </tr>\n",
       "    <tr>\n",
       "      <th>Timezone</th>\n",
       "      <td>0.000059</td>\n",
       "      <td>-0.026067</td>\n",
       "      <td>-0.003550</td>\n",
       "      <td>0.002780</td>\n",
       "      <td>1.000000</td>\n",
       "      <td>NaN</td>\n",
       "      <td>0.005333</td>\n",
       "    </tr>\n",
       "    <tr>\n",
       "      <th>Phone_code</th>\n",
       "      <td>NaN</td>\n",
       "      <td>NaN</td>\n",
       "      <td>NaN</td>\n",
       "      <td>NaN</td>\n",
       "      <td>NaN</td>\n",
       "      <td>NaN</td>\n",
       "      <td>NaN</td>\n",
       "    </tr>\n",
       "    <tr>\n",
       "      <th>Call_Count</th>\n",
       "      <td>-0.408742</td>\n",
       "      <td>-0.045342</td>\n",
       "      <td>-0.002219</td>\n",
       "      <td>-0.403949</td>\n",
       "      <td>0.005333</td>\n",
       "      <td>NaN</td>\n",
       "      <td>1.000000</td>\n",
       "    </tr>\n",
       "  </tbody>\n",
       "</table>\n",
       "</div>"
      ],
      "text/plain": [
       "             Call_ID      Sale       Age  Product_ID  Timezone  Phone_code  \\\n",
       "Call_ID     1.000000  0.013108  0.000939    0.991783  0.000059         NaN   \n",
       "Sale        0.013108  1.000000 -0.003349    0.012813 -0.026067         NaN   \n",
       "Age         0.000939 -0.003349  1.000000    0.001041 -0.003550         NaN   \n",
       "Product_ID  0.991783  0.012813  0.001041    1.000000  0.002780         NaN   \n",
       "Timezone    0.000059 -0.026067 -0.003550    0.002780  1.000000         NaN   \n",
       "Phone_code       NaN       NaN       NaN         NaN       NaN         NaN   \n",
       "Call_Count -0.408742 -0.045342 -0.002219   -0.403949  0.005333         NaN   \n",
       "\n",
       "            Call_Count  \n",
       "Call_ID      -0.408742  \n",
       "Sale         -0.045342  \n",
       "Age          -0.002219  \n",
       "Product_ID   -0.403949  \n",
       "Timezone      0.005333  \n",
       "Phone_code         NaN  \n",
       "Call_Count    1.000000  "
      ]
     },
     "execution_count": 66,
     "metadata": {},
     "output_type": "execute_result"
    }
   ],
   "source": [
    "corr=df.corr()\n",
    "corr"
   ]
  },
  {
   "cell_type": "code",
   "execution_count": 70,
   "id": "64cdb5ed",
   "metadata": {},
   "outputs": [
    {
     "data": {
      "image/png": "[encoded data removed]",
      "text/plain": [
       "<Figure size 432x288 with 2 Axes>"
      ]
     },
     "metadata": {
      "needs_background": "light"
     },
     "output_type": "display_data"
    }
   ],
   "source": [
    "sns.heatmap(corr,annot=True);"
   ]
  },
  {
   "cell_type": "code",
   "execution_count": null,
   "id": "ce24e1b2",
   "metadata": {},
   "outputs": [],
   "source": []
  },
  {
   "cell_type": "code",
   "execution_count": 73,
   "id": "35c5f730",
   "metadata": {},
   "outputs": [
    {
     "data": {
      "text/html": [
       "<div>\n",
       "<style scoped>\n",
       "    .dataframe tbody tr th:only-of-type {\n",
       "        vertical-align: middle;\n",
       "    }\n",
       "\n",
       "    .dataframe tbody tr th {\n",
       "        vertical-align: top;\n",
       "    }\n",
       "\n",
       "    .dataframe thead th {\n",
       "        text-align: right;\n",
       "    }\n",
       "</style>\n",
       "<table border=\"1\" class=\"dataframe\">\n",
       "  <thead>\n",
       "    <tr style=\"text-align: right;\">\n",
       "      <th></th>\n",
       "      <th>Call_ID</th>\n",
       "      <th>Sale</th>\n",
       "      <th>Age</th>\n",
       "      <th>Product_ID</th>\n",
       "      <th>Timezone</th>\n",
       "      <th>Phone_code</th>\n",
       "      <th>First_Name</th>\n",
       "      <th>Last_Name</th>\n",
       "      <th>Area_Code</th>\n",
       "      <th>Gender</th>\n",
       "      <th>Call_Count</th>\n",
       "    </tr>\n",
       "  </thead>\n",
       "  <tbody>\n",
       "    <tr>\n",
       "      <th>0</th>\n",
       "      <td>9545434</td>\n",
       "      <td>False</td>\n",
       "      <td>42</td>\n",
       "      <td>147</td>\n",
       "      <td>2</td>\n",
       "      <td>37.0</td>\n",
       "      <td>Jk</td>\n",
       "      <td>Jk</td>\n",
       "      <td>2302</td>\n",
       "      <td>Male</td>\n",
       "      <td>1</td>\n",
       "    </tr>\n",
       "    <tr>\n",
       "      <th>1</th>\n",
       "      <td>9211206</td>\n",
       "      <td>False</td>\n",
       "      <td>74</td>\n",
       "      <td>146</td>\n",
       "      <td>2</td>\n",
       "      <td>37.0</td>\n",
       "      <td>Em</td>\n",
       "      <td>Sh</td>\n",
       "      <td>1501</td>\n",
       "      <td>Male</td>\n",
       "      <td>10</td>\n",
       "    </tr>\n",
       "    <tr>\n",
       "      <th>2</th>\n",
       "      <td>8873010</td>\n",
       "      <td>False</td>\n",
       "      <td>35</td>\n",
       "      <td>144</td>\n",
       "      <td>2</td>\n",
       "      <td>37.0</td>\n",
       "      <td>BI</td>\n",
       "      <td>MI</td>\n",
       "      <td>1550</td>\n",
       "      <td>Male</td>\n",
       "      <td>9</td>\n",
       "    </tr>\n",
       "    <tr>\n",
       "      <th>3</th>\n",
       "      <td>9852034</td>\n",
       "      <td>False</td>\n",
       "      <td>40</td>\n",
       "      <td>149</td>\n",
       "      <td>2</td>\n",
       "      <td>37.0</td>\n",
       "      <td>WT</td>\n",
       "      <td>LI</td>\n",
       "      <td>1401</td>\n",
       "      <td>Male</td>\n",
       "      <td>6</td>\n",
       "    </tr>\n",
       "    <tr>\n",
       "      <th>4</th>\n",
       "      <td>9416548</td>\n",
       "      <td>False</td>\n",
       "      <td>26</td>\n",
       "      <td>147</td>\n",
       "      <td>2</td>\n",
       "      <td>37.0</td>\n",
       "      <td>LA</td>\n",
       "      <td>LA</td>\n",
       "      <td>125</td>\n",
       "      <td>Female</td>\n",
       "      <td>12</td>\n",
       "    </tr>\n",
       "  </tbody>\n",
       "</table>\n",
       "</div>"
      ],
      "text/plain": [
       "   Call_ID   Sale  Age  Product_ID  Timezone  Phone_code First_Name Last_Name  \\\n",
       "0  9545434  False   42         147         2        37.0         Jk        Jk   \n",
       "1  9211206  False   74         146         2        37.0         Em        Sh   \n",
       "2  8873010  False   35         144         2        37.0         BI        MI   \n",
       "3  9852034  False   40         149         2        37.0         WT        LI   \n",
       "4  9416548  False   26         147         2        37.0         LA        LA   \n",
       "\n",
       "  Area_Code  Gender  Call_Count  \n",
       "0      2302    Male           1  \n",
       "1      1501    Male          10  \n",
       "2      1550    Male           9  \n",
       "3      1401    Male           6  \n",
       "4       125  Female          12  "
      ]
     },
     "execution_count": 73,
     "metadata": {},
     "output_type": "execute_result"
    }
   ],
   "source": [
    "df.head()"
   ]
  },
  {
   "cell_type": "code",
   "execution_count": null,
   "id": "91c3080b",
   "metadata": {},
   "outputs": [],
   "source": []
  },
  {
   "cell_type": "code",
   "execution_count": 76,
   "id": "d5b49ee5",
   "metadata": {},
   "outputs": [
    {
     "data": {
      "image/png": "[encoded data removed]",
      "text/plain": [
       "<Figure size 432x288 with 1 Axes>"
      ]
     },
     "metadata": {
      "needs_background": "light"
     },
     "output_type": "display_data"
    }
   ],
   "source": [
    "sns.boxplot(x=\"Sale\",y=\"Call_Count\",data=df);"
   ]
  },
  {
   "cell_type": "code",
   "execution_count": null,
   "id": "61003fe7",
   "metadata": {},
   "outputs": [],
   "source": []
  }
 ],
 "metadata": {
  "kernelspec": {
   "display_name": "Python 3 (ipykernel)",
   "language": "python",
   "name": "python3"
  },
  "language_info": {
   "codemirror_mode": {
    "name": "ipython",
    "version": 3
   },
   "file_extension": ".py",
   "mimetype": "text/x-python",
   "name": "python",
   "nbconvert_exporter": "python",
   "pygments_lexer": "ipython3",
   "version": "3.9.7"
  }
 },
 "nbformat": 4,
 "nbformat_minor": 5
}
